{
  "nbformat": 4,
  "nbformat_minor": 0,
  "metadata": {
    "colab": {
      "provenance": [],
      "include_colab_link": true
    },
    "kernelspec": {
      "name": "python3",
      "display_name": "Python 3"
    }
  },
  "cells": [
    {
      "cell_type": "markdown",
      "metadata": {
        "id": "view-in-github",
        "colab_type": "text"
      },
      "source": [
        "<a href=\"https://colab.research.google.com/github/klausgibin/data_science/blob/main/Analisando_os_Dados_do_Airbnb_(Rio_de_Janeiro).ipynb\" target=\"_parent\"><img src=\"https://colab.research.google.com/assets/colab-badge.svg\" alt=\"Open In Colab\"/></a>"
      ]
    },
    {
      "cell_type": "markdown",
      "metadata": {
        "id": "kLI0gJtzDGuQ"
      },
      "source": [
        "\n",
        "---\n",
        "\n",
        "# Análise dos Dados do Airbnb - *Rio de Janeiro*\n",
        "O [Airbnb](https://www.airbnb.com.br/) é amplamente reconhecido como a **maior empresa de hospedagem do mundo**. Curiosamente, ela **não possui nenhum hotel**!\n",
        "\n",
        "Ao conectar pessoas que desejam viajar e encontrar acomodações com anfitriões que desejam alugar seus imóveis de maneira simples, o Airbnb oferece uma plataforma inovadora para facilitar essa forma alternativa de hospedagem.\n",
        "\n",
        "Somente no ano de 2021, o valor bruto das reservas feitas pela plataforma atingiu a marca de US$ 46,9 bilhões, um crescimento de 23% comparado ao período pré-pandemia.\n",
        "\n",
        "Uma das iniciativas do Airbnb é fornecer dados de sua plataforma para algumas das principais cidades do mundo. Através do portal [Inside Airbnb](http://insideairbnb.com/get-the-data.html), é possível obter uma grande quantidade de informações para desenvolver projetos e soluções de *Data Science*.\n",
        "\n",
        "\n",
        "<center><img alt=\"Analisando Airbnb\" width=\"10%\" src=\"https://www.area360.com.au/wp-content/uploads/2017/09/airbnb-logo.jpg\"></center>\n",
        "\n",
        "**Neste *notebook*, iremos analisar os dados referentes ao Rio de Janeiro, e ver quais insights podem ser extraídos a partir de dados brutos.**"
      ]
    },
    {
      "cell_type": "markdown",
      "metadata": {
        "id": "0zxQHhIUDF_2"
      },
      "source": [
        "## Obtenção dos Dados\n",
        "\n",
        "Todos os dados usados aqui foram obtidos a partir do site [Inside Airbnb](http://insideairbnb.com/get-the-data.html).\n",
        "\n",
        "Para esta análise exploratória inicial, será baixado apenas o seguinte arquivo:\n",
        "\n",
        "* `listings.csv` - *Summary information and metrics for listings in Rio de Janeiro (good for visualisations).*\n",
        "\n",
        "Importante: O portal está em constante evolução, e em determinado momento, pode ser que o [conjunto de dados](http://data.insideairbnb.com/brazil/rj/rio-de-janeiro/2021-04-26/visualisations/listings.csv) exato utilizado nesse notebook não esteja mais disponível, o que quebraria nosso código.\n",
        "\n",
        "Pensando nisso, os dados foram baixados e dispnibilizados junto a este notebook no Github.\n",
        "\n",
        "Com isso em mente, vamos ao projeto.\n"
      ]
    },
    {
      "cell_type": "code",
      "metadata": {
        "id": "Vhp2wMPgJ6zX"
      },
      "source": [
        "# importando os pacotes necessarios\n",
        "import pandas as pd\n",
        "import matplotlib.pyplot as plt\n",
        "import seaborn as sns\n",
        "\n",
        "%matplotlib inline"
      ],
      "execution_count": null,
      "outputs": []
    },
    {
      "cell_type": "code",
      "metadata": {
        "id": "tUmoAT8DLQ5T"
      },
      "source": [
        "# importando o arquivo listings.csv para um DataFrame\n",
        "df = pd.read_csv(\"/content/listings.csv\")"
      ],
      "execution_count": null,
      "outputs": []
    },
    {
      "cell_type": "markdown",
      "metadata": {
        "id": "qb5By2nIMS6m"
      },
      "source": [
        "## Análise dos Dados\n",
        "\n",
        "Esta etapa tem por objetivo criar uma consciência situacional inicial e permitir um entendimento de como os dados estão estruturados.\n"
      ]
    },
    {
      "cell_type": "markdown",
      "metadata": {
        "id": "RYgvuebKNg8-"
      },
      "source": [
        "**Dicionário das variáveis**\n",
        "\n",
        "* `id` - número de id gerado para identificar o imóvel\n",
        "* `name` - nome da propriedade anunciada\n",
        "* `host_id` - número de id do proprietário (anfitrião) da propriedade\n",
        "* `host_name` - Nome do anfitrião\n",
        "* `neighbourhood_group` - esta coluna não contém nenhum valor válido\n",
        "* `neighbourhood` - nome do bairro\n",
        "* `latitude` - coordenada da latitude da propriedade\n",
        "* `longitude` - coordenada da longitude da propriedade\n",
        "* `room_type` - informa o tipo de quarto que é oferecido\n",
        "* `price` - preço para alugar o imóvel\n",
        "* `minimum_nights` - quantidade mínima de noites para reservar\n",
        "* `number_of_reviews` - número de reviews que a propriedade possui\n",
        "* `last_review` - data do último review\n",
        "* `reviews_per_month` - quantidade de reviews por mês\n",
        "* `calculated_host_listings_count` - quantidade de imóveis do mesmo anfitrião\n",
        "* `availability_365` - número de dias de disponibilidade dentro de 365 dias\n",
        "* `license` - esta coluna não contém nenhum valor válido\n",
        "\n",
        "Antes de iniciar qualquer análise, vamos verificar a cara do nosso *dataset*, analisando as 5 primeiras entradas."
      ]
    },
    {
      "cell_type": "code",
      "metadata": {
        "id": "2iS_dae7YQtO"
      },
      "source": [
        "df.head()"
      ],
      "execution_count": null,
      "outputs": []
    },
    {
      "cell_type": "markdown",
      "metadata": {
        "id": "6-B_qtEaYEd-"
      },
      "source": [
        "### **Q1. Quantos atributos (variáveis) e quantas entradas o nosso conjunto de dados possui? Quais os tipos das variáveis?**\n",
        "\n",
        "Vamos prosseguir e identificar a quantidade de entradas que nosso conjunto de dados possui e ver os tipos de cada coluna."
      ]
    },
    {
      "cell_type": "code",
      "metadata": {
        "id": "TFRK0tniLV-G"
      },
      "source": [
        "df.info()"
      ],
      "execution_count": null,
      "outputs": []
    },
    {
      "cell_type": "markdown",
      "metadata": {
        "id": "yz1urSUGW9iE"
      },
      "source": [
        "### **Q2. Qual a porcentagem de valores ausentes no *dataset*?**\n",
        "\n",
        "A qualidade de um *dataset* está diretamente relacionada à quantidade de valores ausentes. É importante entender logo no início se esses valores nulos são significativos comparados ao total de entradas.\n",
        "\n",
        "* É possível ver que as colunas `neighbourhood_group` e `license`possuem 100% dos seus valores faltantes.\n",
        "* As variáveis `reviews_per_month` e `last_review` possuem 1/4 das linhas nulas."
      ]
    },
    {
      "cell_type": "code",
      "metadata": {
        "id": "plk2FjbCXOqP"
      },
      "source": [
        "# ordenar em ordem decrescente as variáveis por seus valores ausentes\n",
        "(df.isnull().sum() / df.shape[0]).sort_values(ascending=False)"
      ],
      "execution_count": null,
      "outputs": []
    },
    {
      "cell_type": "markdown",
      "metadata": {
        "id": "iHXvvHIxaoNc"
      },
      "source": [
        "### **Q3. Qual o tipo de distribuição das variáveis?**\n",
        "\n",
        "Para identificar a distribuição das variáveis, irei plotar o histograma."
      ]
    },
    {
      "cell_type": "code",
      "metadata": {
        "id": "q2wWSfeRbmBo"
      },
      "source": [
        "# plotar o histograma das variáveis numéricas\n",
        "df.hist(bins=15, figsize=(15,10));"
      ],
      "execution_count": null,
      "outputs": []
    },
    {
      "cell_type": "markdown",
      "metadata": {
        "id": "7x4aw1j5wNmn"
      },
      "source": [
        "### **Q4. Há *outliers* presentes?**"
      ]
    },
    {
      "cell_type": "markdown",
      "metadata": {
        "id": "ba1xYYTug6bX"
      },
      "source": [
        "Pela distribuição do histograma, é possível verificar indícios da presença de *outliers*. Olhe por exemplo as variáveis `price`, `minimum_nights` e `calculated_host_listings_count`.\n",
        "\n",
        "Os valores não seguem uma distruição, e distorcem toda a representação gráfica. Para confirmar, há duas maneiras rápidas que auxiliam a detecção de *outliers*. São elas:\n",
        "\n",
        "* Resumo estatístico por meio do método `describe()`\n",
        "* Plotar `boxplots` para a variável."
      ]
    },
    {
      "cell_type": "code",
      "metadata": {
        "id": "ff-8gUahLk-C"
      },
      "source": [
        "# ver o resumo estatístico das variáveis numéricas\n",
        "df[['price', 'minimum_nights', 'number_of_reviews', 'reviews_per_month',\n",
        "    'calculated_host_listings_count', 'availability_365']].describe()"
      ],
      "execution_count": null,
      "outputs": []
    },
    {
      "cell_type": "markdown",
      "metadata": {
        "id": "zAx_GIAzhZTn"
      },
      "source": [
        "Olhando o resumo estatístico acima, podemos confirmar algumas hipóteses como:\n",
        "\n",
        "* A variável `price` possui 75% do valor abaixo de 600, porém seu valor máximo é 547.643.\n",
        "* A variável `minimum_nights` possui 75% do valor abaixo de 3, porém seu valor máximo é 1.125.\n",
        "\n",
        "Este padrão se repete para as demais variáveis.\n"
      ]
    },
    {
      "cell_type": "markdown",
      "metadata": {
        "id": "R1G8lOfGxfW0"
      },
      "source": [
        "#### Boxplot para price"
      ]
    },
    {
      "cell_type": "code",
      "metadata": {
        "id": "uQhJ229OkX_o"
      },
      "source": [
        "# price\n",
        "df.price.plot(kind='box', vert=False, figsize=(15, 3))\n",
        "plt.show()\n",
        "\n",
        "# ver quantidade de valores acima de 5000 para price\n",
        "print(\"\\nprice: valores acima de 5000\")\n",
        "print(\"{} entradas\".format(len(df[df.price > 5000])))\n",
        "print(\"{:.4f}%\".format((len(df[df.price > 5000]) / df.shape[0])*100))\n",
        "\n"
      ],
      "execution_count": null,
      "outputs": []
    },
    {
      "cell_type": "markdown",
      "source": [
        "#### Boxplot para minimum_nights"
      ],
      "metadata": {
        "id": "MeUQlJIVrl9_"
      }
    },
    {
      "cell_type": "code",
      "metadata": {
        "id": "_-X_Z58of_dC"
      },
      "source": [
        "# minimum_nights\n",
        "df.minimum_nights.plot(kind='box', vert=False, figsize=(15, 3))\n",
        "plt.show()\n",
        "\n",
        "# ver quantidade de valores acima de 30 dias para minimum_nights\n",
        "print(\"minimum_nights: valores acima de 30:\")\n",
        "print(\"{} entradas\".format(len(df[df.minimum_nights > 30])))\n",
        "print(\"{:.4f}%\".format((len(df[df.minimum_nights > 30]) / df.shape[0])*100))"
      ],
      "execution_count": null,
      "outputs": []
    },
    {
      "cell_type": "markdown",
      "metadata": {
        "id": "TfxQ1PITFc5Q"
      },
      "source": [
        "#### Histogramas sem *outliers*\n",
        "\n",
        "Já que identificamos *outliers* nas variáveis `price` e `minimum_nights`, vamos agora limpar o *DataFrame* delas e plotar novamente o histograma."
      ]
    },
    {
      "cell_type": "code",
      "metadata": {
        "id": "67JxJ6n_FrTn"
      },
      "source": [
        "# remover os *outliers* em um novo DataFrame\n",
        "df_clean = df.copy()\n",
        "df_clean.drop(df_clean[df_clean.price > 5000].index, axis=0, inplace=True)\n",
        "df_clean.drop(df_clean[df_clean.minimum_nights > 30].index, axis=0, inplace=True)\n",
        "\n",
        "# remover `neighbourhood_group` e 'license', pois estão vazias\n",
        "df_clean.drop(['neighbourhood_group', 'license'], axis=1, inplace=True)\n",
        "\n",
        "# plotar o histograma para as variáveis numéricas\n",
        "df_clean.hist(bins=15, figsize=(15,10));"
      ],
      "execution_count": null,
      "outputs": []
    },
    {
      "cell_type": "markdown",
      "metadata": {
        "id": "IXn2oIo5qx-w"
      },
      "source": [
        "### **Q4. Qual a correlação existente entre as variáveis**\n",
        "\n",
        "Correlação significa que existe uma relação entre duas coisas. No nosso contexto, estamos buscando relação ou semelhança entre duas variáveis.\n",
        "\n",
        "Essa relação pode ser medida, e é função do coeficiente de correlação estabelecer qual a intensidade dela. Para identificar as correlações existentes entre as variáveis de interesse, vou:\n",
        "\n",
        "* Criar uma matriz de correlação\n",
        "* Gerar um *heatmap* a partir dessa matriz, usando a biblioteca `seaborn`"
      ]
    },
    {
      "cell_type": "code",
      "metadata": {
        "id": "x2ayzBajqxyd"
      },
      "source": [
        "# criar uma matriz de correlação\n",
        "corr = df_clean[['price', 'minimum_nights', 'number_of_reviews', 'reviews_per_month',\n",
        "    'calculated_host_listings_count', 'availability_365']].corr()\n",
        "\n",
        "display(corr)"
      ],
      "execution_count": null,
      "outputs": []
    },
    {
      "cell_type": "code",
      "metadata": {
        "id": "91UujDr6ueqE"
      },
      "source": [
        "sns.heatmap(corr, cmap='RdBu', fmt='.2f', square=True, linecolor='white', annot=True);"
      ],
      "execution_count": null,
      "outputs": []
    },
    {
      "cell_type": "markdown",
      "metadata": {
        "id": "7b6RMWpuHKN-"
      },
      "source": [
        "### **Q5. Qual o tipo de imóvel mais alugado no Airbnb?**\n",
        "\n",
        "A coluna da variável `room_type` indica o tipo de locação que está anunciada no Airbnb. Se você já alugou no site, sabe que existem opções de apartamentos/casas inteiras, apenas o aluguel de um quarto ou mesmo dividir o quarto com outras pessoas.\n",
        "\n",
        "Vamos contar a quantidade de ocorrências de cada tipo de aluguel:"
      ]
    },
    {
      "cell_type": "code",
      "metadata": {
        "id": "ueLPNWvPHgfB"
      },
      "source": [
        "# Valores absolutos\n",
        "df_clean.room_type.value_counts()"
      ],
      "execution_count": null,
      "outputs": []
    },
    {
      "cell_type": "code",
      "metadata": {
        "id": "EvwoO-XAHhIm"
      },
      "source": [
        "# Valores em %\n",
        "df_clean.room_type.value_counts() / df_clean.shape[0]"
      ],
      "execution_count": null,
      "outputs": []
    },
    {
      "cell_type": "markdown",
      "metadata": {
        "id": "MFa5NbnLJMcd"
      },
      "source": [
        "### **Q6. Qual a localidade mais cara do Rio?**\n",
        "\n",
        "Uma maneira de se verificar uma variável em função da outra é usando `groupby()`. No caso, queremos comparar os 10 bairros (*neighbourhoods*) a partir do preço de locação."
      ]
    },
    {
      "cell_type": "code",
      "metadata": {
        "id": "mygcB3iuIi0J"
      },
      "source": [
        "df_clean.groupby(['neighbourhood']).price.mean().sort_values(ascending=False)[:10]"
      ],
      "execution_count": null,
      "outputs": []
    },
    {
      "cell_type": "markdown",
      "metadata": {
        "id": "4nMyAfrBS3s1"
      },
      "source": [
        "Como são fornecidas as Latitudes e Longitudes para os imóveis, é possível plotar cada ponto. Para isso, considera-se `x=longitude` e `y=latitude`."
      ]
    },
    {
      "cell_type": "code",
      "metadata": {
        "id": "UxVJqJ_3W59I"
      },
      "source": [
        "# plotar os imóveis pela latitude-longitude\n",
        "df_clean.plot(kind=\"scatter\", x='longitude', y='latitude', alpha=0.4, c=df_clean['price'], s=8,\n",
        "              cmap=plt.get_cmap('jet'), figsize=(12,8));"
      ],
      "execution_count": null,
      "outputs": []
    },
    {
      "cell_type": "markdown",
      "metadata": {
        "id": "GkvAg623RjoR"
      },
      "source": [
        "## Conclusões\n",
        "\n",
        "Foi feita apenas uma análise superficial na base de dados do Airbnb, porém já se percebeu que existem *outliers* em algumas das variáveis.\n",
        "\n",
        "Também se notou que em algumas localidades há poucos imóveis disponíveis, o que pode distorcer as informações estatísticas de alguns atributos.\n",
        "\n",
        "Por fim, lembra-se que este *dataset* é uma versão resumida, ideal apenas para uma abordagem inicial. Recomenda-se que seja usado, em uma próxima análise exploratória, o conjunto de dados completos, com 106 atributos disponíveis."
      ]
    }
  ]
}